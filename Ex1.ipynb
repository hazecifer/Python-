{
 "cells": [
  {
   "cell_type": "code",
   "execution_count": 11,
   "metadata": {},
   "outputs": [],
   "source": [
    "import turtle\n",
    "import math"
   ]
  },
  {
   "cell_type": "code",
   "execution_count": 13,
   "metadata": {},
   "outputs": [],
   "source": [
    "screen = turtle.Screen()\n",
    "screen.bgcolor(\"white\")\n",
    "pen = turtle.Turtle()\n",
    "pen.speed(0)\n",
    "pen.width(2)"
   ]
  },
  {
   "cell_type": "code",
   "execution_count": 14,
   "metadata": {},
   "outputs": [],
   "source": [
    "R = 200    \n",
    "r = 79    \n",
    "d = 90     \n",
    "pen.up()\n",
    "pen.goto(0,0)\n",
    "pen.down()\n",
    "colors = [\"#FF00FF\", \"#00FFFF\", \"#FFFF00\", \"#FFA500\", \"#ADFF2F\", \"#FF69B4\"]\n",
    "num_colors = len(colors)\n",
    "steps = 3600  \n",
    "theta_step = 0.5  \n",
    "for i in range(int(steps/theta_step)):\n",
    "    theta = i * theta_step * math.pi/180.0  \n",
    "    x = (R - r)*math.cos(theta) + d*math.cos(((R - r)/r)*theta)\n",
    "    y = (R - r)*math.sin(theta) - d*math.sin(((R - r)/r)*theta)\n",
    "    if i % 100 == 0:\n",
    "        pen.color(colors[(i//100) % num_colors])\n",
    "    pen.goto(x, y)"
   ]
  },
  {
   "cell_type": "code",
   "execution_count": 15,
   "metadata": {},
   "outputs": [],
   "source": [
    "pen.up()\n",
    "center_x, center_y = 200, -200\n",
    "pen.goto(center_x, center_y)\n",
    "pen.down()\n",
    "pen.up()\n",
    "pen.goto(center_x, center_y - 40)  \n",
    "pen.setheading(0)\n",
    "pen.down()\n",
    "star_radius = 40\n",
    "pen.color(\"blue\")\n",
    "pen.width(2)\n",
    "pen.circle(star_radius)\n",
    "points = []\n",
    "for i in range(5):\n",
    "    angle_deg = 90 - i*72  \n",
    "    angle_rad = math.radians(angle_deg)\n",
    "    x = center_x + star_radius * math.cos(angle_rad)\n",
    "    y = center_y + star_radius * math.sin(angle_rad)\n",
    "    points.append((x, y))\n",
    "star_order = [0, 2, 4, 1, 3, 0]\n",
    "pen.up()\n",
    "pen.color(\"blue\", \"yellow\")\n",
    "pen.goto(points[star_order[0]])\n",
    "pen.down()\n",
    "pen.begin_fill()\n",
    "for idx in star_order[1:]:\n",
    "    pen.goto(points[idx])\n",
    "pen.end_fill()\n",
    "\n",
    "pen.hideturtle()\n",
    "turtle.done()"
   ]
  }
 ],
 "metadata": {
  "kernelspec": {
   "display_name": "Python 3",
   "language": "python",
   "name": "python3"
  },
  "language_info": {
   "codemirror_mode": {
    "name": "ipython",
    "version": 3
   },
   "file_extension": ".py",
   "mimetype": "text/x-python",
   "name": "python",
   "nbconvert_exporter": "python",
   "pygments_lexer": "ipython3",
   "version": "3.11.3"
  }
 },
 "nbformat": 4,
 "nbformat_minor": 2
}
